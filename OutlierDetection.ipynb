{
  "nbformat": 4,
  "nbformat_minor": 0,
  "metadata": {
    "colab": {
      "name": "OutlierDetection.ipynb",
      "version": "0.3.2",
      "provenance": [],
      "collapsed_sections": [],
      "include_colab_link": true
    },
    "kernelspec": {
      "name": "python3",
      "display_name": "Python 3"
    }
  },
  "cells": [
    {
      "cell_type": "markdown",
      "metadata": {
        "id": "view-in-github",
        "colab_type": "text"
      },
      "source": [
        "<a href=\"https://colab.research.google.com/github/VIKGO123/Outlier-Detection-and-Class-Segmentation/blob/master/OutlierDetection.ipynb\" target=\"_parent\"><img src=\"https://colab.research.google.com/assets/colab-badge.svg\" alt=\"Open In Colab\"/></a>"
      ]
    },
    {
      "cell_type": "code",
      "metadata": {
        "id": "YwAzeWLeP5-C",
        "colab_type": "code",
        "outputId": "3b5e2b00-ca46-4871-ce91-c3900432cca0",
        "colab": {
          "base_uri": "https://localhost:8080/",
          "height": 34
        }
      },
      "source": [
        "from google.colab import drive\n",
        "drive.mount('/content/gdrive')  #Mounting google drive"
      ],
      "execution_count": 0,
      "outputs": [
        {
          "output_type": "stream",
          "text": [
            "Drive already mounted at /content/gdrive; to attempt to forcibly remount, call drive.mount(\"/content/gdrive\", force_remount=True).\n"
          ],
          "name": "stdout"
        }
      ]
    },
    {
      "cell_type": "code",
      "metadata": {
        "id": "NSS2XOpORK8n",
        "colab_type": "code",
        "colab": {}
      },
      "source": [
        "import numpy as np\n",
        "import matplotlib.pyplot as plt\n",
        "import pandas as pd  #importing libraries"
      ],
      "execution_count": 0,
      "outputs": []
    },
    {
      "cell_type": "code",
      "metadata": {
        "id": "eA8GvEOpa-mG",
        "colab_type": "code",
        "colab": {}
      },
      "source": [
        "Gloves = pd.read_excel(\"gdrive/My Drive/ml_hack/IndiaMart/Phase 1 Dataset Hackathon (1)d09fdc4.xlsx\", sheet_name=0)#reading excel file sheet0"
      ],
      "execution_count": 0,
      "outputs": []
    },
    {
      "cell_type": "code",
      "metadata": {
        "id": "VkAxf9JTeKeS",
        "colab_type": "code",
        "colab": {}
      },
      "source": [
        "Kurta = pd.read_excel(\"gdrive/My Drive/ml_hack/IndiaMart/Phase 1 Dataset Hackathon (1)d09fdc4.xlsx\", sheet_name=1)#reading excel file sheet1"
      ],
      "execution_count": 0,
      "outputs": []
    },
    {
      "cell_type": "code",
      "metadata": {
        "id": "M6-NrReneMJy",
        "colab_type": "code",
        "colab": {}
      },
      "source": [
        "Drill = pd.read_excel(\"gdrive/My Drive/ml_hack/IndiaMart/Phase 1 Dataset Hackathon (1)d09fdc4.xlsx\", sheet_name=2)#reading excel file sheet2"
      ],
      "execution_count": 0,
      "outputs": []
    },
    {
      "cell_type": "code",
      "metadata": {
        "id": "b7APhu_dORzr",
        "colab_type": "code",
        "colab": {}
      },
      "source": [
        "Drill"
      ],
      "execution_count": 0,
      "outputs": []
    },
    {
      "cell_type": "code",
      "metadata": {
        "id": "BV_Fvep3cSr-",
        "colab_type": "code",
        "outputId": "07e783ae-4978-43ca-85b7-1e47d6b0868f",
        "colab": {
          "base_uri": "https://localhost:8080/",
          "height": 51
        }
      },
      "source": [
        "gloves_data=Gloves.as_matrix()"
      ],
      "execution_count": 0,
      "outputs": [
        {
          "output_type": "stream",
          "text": [
            "/usr/local/lib/python3.6/dist-packages/ipykernel_launcher.py:1: FutureWarning: Method .as_matrix will be removed in a future version. Use .values instead.\n",
            "  \"\"\"Entry point for launching an IPython kernel.\n"
          ],
          "name": "stderr"
        }
      ]
    },
    {
      "cell_type": "code",
      "metadata": {
        "id": "FtSdjHCxeXMQ",
        "colab_type": "code",
        "outputId": "c6de75c2-c4bf-4da4-9cba-87e5318d9a6e",
        "colab": {
          "base_uri": "https://localhost:8080/",
          "height": 51
        }
      },
      "source": [
        "drill_data=Drill.as_matrix()"
      ],
      "execution_count": 0,
      "outputs": [
        {
          "output_type": "stream",
          "text": [
            "/usr/local/lib/python3.6/dist-packages/ipykernel_launcher.py:1: FutureWarning: Method .as_matrix will be removed in a future version. Use .values instead.\n",
            "  \"\"\"Entry point for launching an IPython kernel.\n"
          ],
          "name": "stderr"
        }
      ]
    },
    {
      "cell_type": "code",
      "metadata": {
        "id": "8Y4bPIa9cYwH",
        "colab_type": "code",
        "outputId": "6f91b277-34fe-4bdd-e2f8-67444675d789",
        "colab": {
          "base_uri": "https://localhost:8080/",
          "height": 187
        }
      },
      "source": [
        "units_gloves=set(gloves_data[:,1])\n",
        "units_gloves"
      ],
      "execution_count": 0,
      "outputs": [
        {
          "output_type": "execute_result",
          "data": {
            "text/plain": [
              "{'Pack',\n",
              " 'Pair',\n",
              " 'Pair(s)',\n",
              " 'Piece',\n",
              " 'Pieces',\n",
              " 'Set',\n",
              " 'Unit',\n",
              " 'Unit/Onwards',\n",
              " 'pack',\n",
              " 'unit'}"
            ]
          },
          "metadata": {
            "tags": []
          },
          "execution_count": 12
        }
      ]
    },
    {
      "cell_type": "code",
      "metadata": {
        "id": "zz5H4lNQffq3",
        "colab_type": "code",
        "outputId": "b6688769-1e14-4698-80e5-802e28ac7211",
        "colab": {
          "base_uri": "https://localhost:8080/",
          "height": 255
        }
      },
      "source": [
        "units_drill=set(drill_data[:,1])\n",
        "units_drill"
      ],
      "execution_count": 0,
      "outputs": [
        {
          "output_type": "execute_result",
          "data": {
            "text/plain": [
              "{'1nos',\n",
              " 'Kit',\n",
              " 'Number',\n",
              " 'ONWARDS',\n",
              " 'Pack',\n",
              " 'Pc_Onwards',\n",
              " 'Piece',\n",
              " 'Piece(s)',\n",
              " 'Set',\n",
              " 'Unit',\n",
              " 'Unit(s)',\n",
              " 'kit',\n",
              " 'pack',\n",
              " 'unit'}"
            ]
          },
          "metadata": {
            "tags": []
          },
          "execution_count": 5
        }
      ]
    },
    {
      "cell_type": "code",
      "metadata": {
        "id": "LdKCuieJAKh_",
        "colab_type": "code",
        "colab": {}
      },
      "source": [
        "class_gloves1=['Pack','Set','pack']\n",
        "class_gloves2=['Pair','Piece','Pieces','Pair(s)','Unit','Unit/Onwards','unit']#manually separting classes"
      ],
      "execution_count": 0,
      "outputs": []
    },
    {
      "cell_type": "code",
      "metadata": {
        "id": "DqFigeqdy90-",
        "colab_type": "code",
        "colab": {}
      },
      "source": [
        "class_drill1=['Pack','pack','Set','Kit','kit']\n",
        "class_drill2=['1nos','Number','ONWARDS','Pc_Onwards','Piece','Piece(s)','Unit','Unit(s)','unit']"
      ],
      "execution_count": 0,
      "outputs": []
    },
    {
      "cell_type": "code",
      "metadata": {
        "id": "Grbv-qe8BTpM",
        "colab_type": "code",
        "colab": {}
      },
      "source": [
        "price_gloves2=[]\n",
        "\n"
      ],
      "execution_count": 0,
      "outputs": []
    },
    {
      "cell_type": "code",
      "metadata": {
        "id": "FxO-UBXbi6ce",
        "colab_type": "code",
        "colab": {}
      },
      "source": [
        "price_gloves1=[]"
      ],
      "execution_count": 0,
      "outputs": []
    },
    {
      "cell_type": "code",
      "metadata": {
        "id": "sXGF6znKL_kF",
        "colab_type": "code",
        "colab": {}
      },
      "source": [
        "price_drill1=[]\n",
        "price_drill2=[]"
      ],
      "execution_count": 0,
      "outputs": []
    },
    {
      "cell_type": "code",
      "metadata": {
        "id": "r9lBgoeUBKnJ",
        "colab_type": "code",
        "colab": {}
      },
      "source": [
        "for i in class_gloves2:\n",
        "    price_gloves2.append(list(Gloves[Gloves['Unit']==i]['Price']))\n",
        "    \n",
        "    \n",
        "  \n",
        "\n",
        "  \n",
        "  "
      ],
      "execution_count": 0,
      "outputs": []
    },
    {
      "cell_type": "code",
      "metadata": {
        "id": "ufhOSHVlMIRh",
        "colab_type": "code",
        "colab": {}
      },
      "source": [
        "for i in class_drill2:\n",
        "    price_drill2.append(list(Drill[Drill['Unit']==i]['Price']))\n",
        "    \n",
        "    \n",
        "  \n",
        "\n",
        "  \n",
        "  "
      ],
      "execution_count": 0,
      "outputs": []
    },
    {
      "cell_type": "code",
      "metadata": {
        "id": "nu5FgOGSixWS",
        "colab_type": "code",
        "colab": {}
      },
      "source": [
        "for j in class_gloves1:\n",
        "    price_gloves1.append(list(Gloves[Gloves['Unit']==j]['Price']))"
      ],
      "execution_count": 0,
      "outputs": []
    },
    {
      "cell_type": "code",
      "metadata": {
        "id": "AMwWrJzhMT0c",
        "colab_type": "code",
        "colab": {}
      },
      "source": [
        "for j in class_drill1:\n",
        "    price_drill1.append(list(Drill[Drill['Unit']==j]['Price']))"
      ],
      "execution_count": 0,
      "outputs": []
    },
    {
      "cell_type": "code",
      "metadata": {
        "id": "o3SkuQ5yRgJa",
        "colab_type": "code",
        "colab": {}
      },
      "source": [
        "from functools import reduce\n",
        "from operator import add\n",
        "price_gloves1=reduce(add ,price_gloves1)"
      ],
      "execution_count": 0,
      "outputs": []
    },
    {
      "cell_type": "code",
      "metadata": {
        "id": "jaAngcrfM9m8",
        "colab_type": "code",
        "colab": {}
      },
      "source": [
        "\n",
        "from functools import reduce\n",
        "from operator import add\n",
        "price_drill1=reduce(add ,price_drill1)"
      ],
      "execution_count": 0,
      "outputs": []
    },
    {
      "cell_type": "code",
      "metadata": {
        "id": "3D6JGQBBMfrX",
        "colab_type": "code",
        "colab": {}
      },
      "source": [
        "from functools import reduce\n",
        "from operator import add\n",
        "price_drill2=reduce(add ,price_drill2)"
      ],
      "execution_count": 0,
      "outputs": []
    },
    {
      "cell_type": "code",
      "metadata": {
        "id": "G48g6s32jI8K",
        "colab_type": "code",
        "colab": {}
      },
      "source": [
        "from functools import reduce\n",
        "from operator import add\n",
        "price_gloves2=reduce(add ,price_gloves2)"
      ],
      "execution_count": 0,
      "outputs": []
    },
    {
      "cell_type": "code",
      "metadata": {
        "id": "eaSQ3KcEjRlp",
        "colab_type": "code",
        "colab": {}
      },
      "source": [
        "price_gloves1=np.array(price_gloves1)"
      ],
      "execution_count": 0,
      "outputs": []
    },
    {
      "cell_type": "code",
      "metadata": {
        "id": "cJgKUjvjTqQi",
        "colab_type": "code",
        "colab": {}
      },
      "source": [
        "price_gloves2=np.array(price_gloves2)"
      ],
      "execution_count": 0,
      "outputs": []
    },
    {
      "cell_type": "code",
      "metadata": {
        "id": "CSm8zx2ONaXy",
        "colab_type": "code",
        "colab": {}
      },
      "source": [
        "price_drill1=np.array(price_drill1)"
      ],
      "execution_count": 0,
      "outputs": []
    },
    {
      "cell_type": "code",
      "metadata": {
        "id": "KVHpJHwvNfWk",
        "colab_type": "code",
        "colab": {}
      },
      "source": [
        "price_drill2=np.array(price_drill2)"
      ],
      "execution_count": 0,
      "outputs": []
    },
    {
      "cell_type": "code",
      "metadata": {
        "id": "nGtzMm1fU-Zs",
        "colab_type": "code",
        "outputId": "f4045158-adef-4fd5-ec5a-949fc8428f89",
        "colab": {
          "base_uri": "https://localhost:8080/",
          "height": 34
        }
      },
      "source": [
        "price_gloves1=price_gloves1.reshape(-1,1)\n",
        "len(price_gloves1)"
      ],
      "execution_count": 0,
      "outputs": [
        {
          "output_type": "execute_result",
          "data": {
            "text/plain": [
              "9"
            ]
          },
          "metadata": {
            "tags": []
          },
          "execution_count": 36
        }
      ]
    },
    {
      "cell_type": "code",
      "metadata": {
        "id": "JnsHKM8fjVWv",
        "colab_type": "code",
        "outputId": "7651d24e-768b-4db2-b631-c11f76caea01",
        "colab": {
          "base_uri": "https://localhost:8080/",
          "height": 34
        }
      },
      "source": [
        "price_gloves2=price_gloves2.reshape(-1,1)\n",
        "len(price_gloves2)"
      ],
      "execution_count": 0,
      "outputs": [
        {
          "output_type": "execute_result",
          "data": {
            "text/plain": [
              "135"
            ]
          },
          "metadata": {
            "tags": []
          },
          "execution_count": 37
        }
      ]
    },
    {
      "cell_type": "code",
      "metadata": {
        "id": "zVSUdBOONqAr",
        "colab_type": "code",
        "outputId": "68cbab51-0d11-4450-b702-f7dea1ef1305",
        "colab": {
          "base_uri": "https://localhost:8080/",
          "height": 34
        }
      },
      "source": [
        "price_drill1=price_drill1.reshape(-1,1)\n",
        "len(price_drill1)"
      ],
      "execution_count": 0,
      "outputs": [
        {
          "output_type": "execute_result",
          "data": {
            "text/plain": [
              "59"
            ]
          },
          "metadata": {
            "tags": []
          },
          "execution_count": 14
        }
      ]
    },
    {
      "cell_type": "code",
      "metadata": {
        "id": "u4XY_I0aN0_T",
        "colab_type": "code",
        "outputId": "70363993-6fa2-4f58-96e2-d8e125f8b404",
        "colab": {
          "base_uri": "https://localhost:8080/",
          "height": 34
        }
      },
      "source": [
        "price_drill2=price_drill2.reshape(-1,1)\n",
        "len(price_drill2)"
      ],
      "execution_count": 0,
      "outputs": [
        {
          "output_type": "execute_result",
          "data": {
            "text/plain": [
              "188"
            ]
          },
          "metadata": {
            "tags": []
          },
          "execution_count": 15
        }
      ]
    },
    {
      "cell_type": "code",
      "metadata": {
        "id": "uQ1X00xkgTcr",
        "colab_type": "code",
        "outputId": "758d648b-e450-461f-ee21-bccc87372141",
        "colab": {
          "base_uri": "https://localhost:8080/",
          "height": 173
        }
      },
      "source": [
        "#Isolation forest outlier detection\n",
        "from sklearn.ensemble import IsolationForest\n",
        "import pandas as pd\n",
        "\n",
        "clf = IsolationForest(max_samples=100, random_state=42)\n",
        "\n",
        "clf.fit(price_gloves1)\n",
        "output_table_gloves1 =(clf.predict(price_gloves1))\n",
        "#Predicting outliers using isolation forest"
      ],
      "execution_count": 0,
      "outputs": [
        {
          "output_type": "stream",
          "text": [
            "/usr/local/lib/python3.6/dist-packages/sklearn/ensemble/iforest.py:237: FutureWarning: default contamination parameter 0.1 will change in version 0.22 to \"auto\". This will change the predict method behavior.\n",
            "  FutureWarning)\n",
            "/usr/local/lib/python3.6/dist-packages/sklearn/ensemble/iforest.py:247: FutureWarning: behaviour=\"old\" is deprecated and will be removed in version 0.22. Please use behaviour=\"new\", which makes the decision_function change to match other anomaly detection algorithm API.\n",
            "  FutureWarning)\n",
            "/usr/local/lib/python3.6/dist-packages/sklearn/ensemble/iforest.py:274: UserWarning: max_samples (100) is greater than the total number of samples (9). max_samples will be set to n_samples for estimation.\n",
            "  % (self.max_samples, n_samples))\n",
            "/usr/local/lib/python3.6/dist-packages/sklearn/ensemble/iforest.py:415: DeprecationWarning: threshold_ attribute is deprecated in 0.20 and will be removed in 0.22.\n",
            "  \" be removed in 0.22.\", DeprecationWarning)\n"
          ],
          "name": "stderr"
        }
      ]
    },
    {
      "cell_type": "code",
      "metadata": {
        "id": "8uJdaBQqjao4",
        "colab_type": "code",
        "outputId": "a7ccc8f8-64cf-4b2d-be98-1fe2dc2c81fc",
        "colab": {
          "base_uri": "https://localhost:8080/",
          "height": 139
        }
      },
      "source": [
        "from sklearn.ensemble import IsolationForest\n",
        "import pandas as pd\n",
        "\n",
        "clf = IsolationForest(max_samples=100, random_state=42)\n",
        "\n",
        "clf.fit(price_gloves2)\n",
        "output_table_gloves2 =(clf.predict(price_gloves2))\n",
        "#Predicting outliers using isolation forest"
      ],
      "execution_count": 0,
      "outputs": [
        {
          "output_type": "stream",
          "text": [
            "/usr/local/lib/python3.6/dist-packages/sklearn/ensemble/iforest.py:237: FutureWarning: default contamination parameter 0.1 will change in version 0.22 to \"auto\". This will change the predict method behavior.\n",
            "  FutureWarning)\n",
            "/usr/local/lib/python3.6/dist-packages/sklearn/ensemble/iforest.py:247: FutureWarning: behaviour=\"old\" is deprecated and will be removed in version 0.22. Please use behaviour=\"new\", which makes the decision_function change to match other anomaly detection algorithm API.\n",
            "  FutureWarning)\n",
            "/usr/local/lib/python3.6/dist-packages/sklearn/ensemble/iforest.py:415: DeprecationWarning: threshold_ attribute is deprecated in 0.20 and will be removed in 0.22.\n",
            "  \" be removed in 0.22.\", DeprecationWarning)\n"
          ],
          "name": "stderr"
        }
      ]
    },
    {
      "cell_type": "code",
      "metadata": {
        "id": "Usoih1p5bUZv",
        "colab_type": "code",
        "outputId": "0d658000-abf0-4c8a-ae0a-8f9c0487f992",
        "colab": {
          "base_uri": "https://localhost:8080/",
          "height": 173
        }
      },
      "source": [
        "#Isolation forest outlier detection\n",
        "from sklearn.ensemble import IsolationForest\n",
        "import pandas as pd\n",
        "\n",
        "clf = IsolationForest(max_samples=100, random_state=42)\n",
        "\n",
        "clf.fit(price_drill1)\n",
        "output_table_drill1 =(clf.predict(price_drill1))\n",
        "#Predicting outliers using isolation forest"
      ],
      "execution_count": 0,
      "outputs": [
        {
          "output_type": "stream",
          "text": [
            "/usr/local/lib/python3.6/dist-packages/sklearn/ensemble/iforest.py:237: FutureWarning: default contamination parameter 0.1 will change in version 0.22 to \"auto\". This will change the predict method behavior.\n",
            "  FutureWarning)\n",
            "/usr/local/lib/python3.6/dist-packages/sklearn/ensemble/iforest.py:247: FutureWarning: behaviour=\"old\" is deprecated and will be removed in version 0.22. Please use behaviour=\"new\", which makes the decision_function change to match other anomaly detection algorithm API.\n",
            "  FutureWarning)\n",
            "/usr/local/lib/python3.6/dist-packages/sklearn/ensemble/iforest.py:274: UserWarning: max_samples (100) is greater than the total number of samples (59). max_samples will be set to n_samples for estimation.\n",
            "  % (self.max_samples, n_samples))\n",
            "/usr/local/lib/python3.6/dist-packages/sklearn/ensemble/iforest.py:415: DeprecationWarning: threshold_ attribute is deprecated in 0.20 and will be removed in 0.22.\n",
            "  \" be removed in 0.22.\", DeprecationWarning)\n"
          ],
          "name": "stderr"
        }
      ]
    },
    {
      "cell_type": "code",
      "metadata": {
        "id": "lSZxwayjcDMQ",
        "colab_type": "code",
        "outputId": "5d75ffe1-516f-4149-95bd-2a9762235dc7",
        "colab": {
          "base_uri": "https://localhost:8080/",
          "height": 139
        }
      },
      "source": [
        "#Isolation forest outlier detection\n",
        "from sklearn.ensemble import IsolationForest\n",
        "import pandas as pd\n",
        "\n",
        "clf = IsolationForest(max_samples=100, random_state=42)\n",
        "\n",
        "clf.fit(price_drill2)\n",
        "output_table_drill2 =(clf.predict(price_drill2))\n",
        "#Predicting outliers using isolation forest"
      ],
      "execution_count": 0,
      "outputs": [
        {
          "output_type": "stream",
          "text": [
            "/usr/local/lib/python3.6/dist-packages/sklearn/ensemble/iforest.py:237: FutureWarning: default contamination parameter 0.1 will change in version 0.22 to \"auto\". This will change the predict method behavior.\n",
            "  FutureWarning)\n",
            "/usr/local/lib/python3.6/dist-packages/sklearn/ensemble/iforest.py:247: FutureWarning: behaviour=\"old\" is deprecated and will be removed in version 0.22. Please use behaviour=\"new\", which makes the decision_function change to match other anomaly detection algorithm API.\n",
            "  FutureWarning)\n",
            "/usr/local/lib/python3.6/dist-packages/sklearn/ensemble/iforest.py:415: DeprecationWarning: threshold_ attribute is deprecated in 0.20 and will be removed in 0.22.\n",
            "  \" be removed in 0.22.\", DeprecationWarning)\n"
          ],
          "name": "stderr"
        }
      ]
    },
    {
      "cell_type": "code",
      "metadata": {
        "id": "9xuUTmg6T939",
        "colab_type": "code",
        "outputId": "76f3e503-cb5b-4895-ede1-edf1b232ddbe",
        "colab": {
          "base_uri": "https://localhost:8080/",
          "height": 34
        }
      },
      "source": [
        "output_table_gloves1\n",
        "#output_table having -1 entries are outliers"
      ],
      "execution_count": 0,
      "outputs": [
        {
          "output_type": "execute_result",
          "data": {
            "text/plain": [
              "array([ 1,  1,  1,  1,  1,  1,  1,  1, -1])"
            ]
          },
          "metadata": {
            "tags": []
          },
          "execution_count": 42
        }
      ]
    },
    {
      "cell_type": "code",
      "metadata": {
        "id": "XucVGN3nPPp4",
        "colab_type": "code",
        "outputId": "30db1932-308f-4c15-b21e-c091a60a3568",
        "colab": {
          "base_uri": "https://localhost:8080/",
          "height": 153
        }
      },
      "source": [
        "output_table_gloves2"
      ],
      "execution_count": 0,
      "outputs": [
        {
          "output_type": "execute_result",
          "data": {
            "text/plain": [
              "array([ 1,  1,  1,  1,  1,  1,  1,  1,  1,  1,  1,  1,  1,  1,  1,  1,  1,\n",
              "        1,  1,  1,  1,  1,  1,  1,  1,  1,  1,  1,  1,  1,  1,  1,  1,  1,\n",
              "        1,  1,  1,  1,  1,  1,  1,  1,  1,  1,  1,  1,  1,  1,  1,  1,  1,\n",
              "        1,  1,  1,  1,  1,  1,  1,  1,  1,  1,  1,  1,  1,  1,  1,  1,  1,\n",
              "        1,  1,  1,  1,  1,  1,  1,  1,  1,  1,  1,  1,  1,  1,  1,  1,  1,\n",
              "        1,  1,  1,  1,  1,  1,  1,  1,  1,  1,  1,  1,  1,  1,  1,  1,  1,\n",
              "        1,  1,  1,  1,  1,  1,  1,  1,  1,  1, -1,  1,  1,  1,  1,  1, -1,\n",
              "       -1,  1, -1,  1,  1, -1,  1, -1, -1, -1, -1, -1, -1, -1, -1, -1])"
            ]
          },
          "metadata": {
            "tags": []
          },
          "execution_count": 43
        }
      ]
    },
    {
      "cell_type": "code",
      "metadata": {
        "id": "EaCIDlCMcIes",
        "colab_type": "code",
        "outputId": "bd55631d-638a-4565-f998-658e6d816d01",
        "colab": {
          "base_uri": "https://localhost:8080/",
          "height": 85
        }
      },
      "source": [
        "output_table_drill1"
      ],
      "execution_count": 0,
      "outputs": [
        {
          "output_type": "execute_result",
          "data": {
            "text/plain": [
              "array([ 1,  1,  1,  1,  1,  1,  1,  1,  1,  1,  1,  1,  1,  1,  1,  1,  1,\n",
              "        1,  1,  1,  1,  1,  1,  1,  1,  1,  1,  1,  1,  1,  1,  1,  1,  1,\n",
              "        1,  1,  1,  1,  1,  1,  1,  1,  1,  1,  1,  1,  1,  1, -1,  1,  1,\n",
              "       -1, -1, -1, -1, -1,  1,  1,  1])"
            ]
          },
          "metadata": {
            "tags": []
          },
          "execution_count": 18
        }
      ]
    },
    {
      "cell_type": "code",
      "metadata": {
        "id": "hnqwxFAthDEE",
        "colab_type": "code",
        "colab": {}
      },
      "source": [
        "result_gloves1=[]"
      ],
      "execution_count": 0,
      "outputs": []
    },
    {
      "cell_type": "code",
      "metadata": {
        "id": "u1fYT-EBcNBG",
        "colab_type": "code",
        "colab": {}
      },
      "source": [
        "result_drill1=[]\n",
        "result_drill2=[]"
      ],
      "execution_count": 0,
      "outputs": []
    },
    {
      "cell_type": "markdown",
      "metadata": {
        "id": "U0S3Cih8NBdo",
        "colab_type": "text"
      },
      "source": [
        "**Removing Outliers**"
      ]
    },
    {
      "cell_type": "code",
      "metadata": {
        "id": "ZBssElI4VISn",
        "colab_type": "code",
        "colab": {}
      },
      "source": [
        "c=0\n",
        "for i in output_table_gloves1:\n",
        "  if(i!=-1):\n",
        "    result_gloves1.append(price_gloves1[c,0])\n",
        "  c=c+1    \n",
        "    "
      ],
      "execution_count": 0,
      "outputs": []
    },
    {
      "cell_type": "code",
      "metadata": {
        "id": "6GQg-1nnjiUb",
        "colab_type": "code",
        "colab": {}
      },
      "source": [
        "result_gloves2=[]"
      ],
      "execution_count": 0,
      "outputs": []
    },
    {
      "cell_type": "code",
      "metadata": {
        "id": "vWu1JbiVjlEO",
        "colab_type": "code",
        "colab": {}
      },
      "source": [
        "c=0\n",
        "for i in output_table_gloves2:\n",
        "  if(i!=-1):\n",
        "    result_gloves2.append(price_gloves2[c,0])\n",
        "  c=c+1  "
      ],
      "execution_count": 0,
      "outputs": []
    },
    {
      "cell_type": "code",
      "metadata": {
        "id": "vPRj36QEcTMo",
        "colab_type": "code",
        "colab": {}
      },
      "source": [
        "c=0\n",
        "for i in output_table_drill1:\n",
        "  if(i!=-1):\n",
        "    result_drill1.append(price_drill1[c,0])\n",
        "  c=c+1    \n",
        "    "
      ],
      "execution_count": 0,
      "outputs": []
    },
    {
      "cell_type": "code",
      "metadata": {
        "id": "zvLWI1jye_VG",
        "colab_type": "code",
        "colab": {}
      },
      "source": [
        "c=0\n",
        "for i in output_table_drill2:\n",
        "  if(i!=-1):\n",
        "    result_drill2.append(price_drill2[c,0])\n",
        "  c=c+1    \n",
        "    "
      ],
      "execution_count": 0,
      "outputs": []
    },
    {
      "cell_type": "code",
      "metadata": {
        "id": "7IpmFTyyjump",
        "colab_type": "code",
        "colab": {}
      },
      "source": [
        "result_gloves2"
      ],
      "execution_count": 0,
      "outputs": []
    },
    {
      "cell_type": "markdown",
      "metadata": {
        "id": "SDFfPEaR7mA8",
        "colab_type": "text"
      },
      "source": [
        "**Getting Max and Min from outliers removed result to get the range for specific classes**"
      ]
    },
    {
      "cell_type": "code",
      "metadata": {
        "id": "069XohI3h-VF",
        "colab_type": "code",
        "outputId": "d180cc82-b6d6-4d1b-df26-cb84ab835c26",
        "colab": {
          "base_uri": "https://localhost:8080/",
          "height": 34
        }
      },
      "source": [
        "min(result_gloves2)"
      ],
      "execution_count": 0,
      "outputs": [
        {
          "output_type": "execute_result",
          "data": {
            "text/plain": [
              "10"
            ]
          },
          "metadata": {
            "tags": []
          },
          "execution_count": 51
        }
      ]
    },
    {
      "cell_type": "code",
      "metadata": {
        "id": "p3mZ_KMKiCL2",
        "colab_type": "code",
        "outputId": "c48ea2db-cecb-49b9-a334-8a4de42467a8",
        "colab": {
          "base_uri": "https://localhost:8080/",
          "height": 34
        }
      },
      "source": [
        "max(result_gloves2)"
      ],
      "execution_count": 0,
      "outputs": [
        {
          "output_type": "execute_result",
          "data": {
            "text/plain": [
              "250"
            ]
          },
          "metadata": {
            "tags": []
          },
          "execution_count": 52
        }
      ]
    },
    {
      "cell_type": "markdown",
      "metadata": {
        "id": "Kyd0a1gCg6TD",
        "colab_type": "text"
      },
      "source": [
        "**['Pair','Piece','Pieces','Pair(s)','Unit','Unit/Onwards','pack','unit'] ranges from [10,250]**"
      ]
    },
    {
      "cell_type": "code",
      "metadata": {
        "id": "ge2Bpm4DjxUK",
        "colab_type": "code",
        "outputId": "7c60b35a-5a01-43cf-bafe-83e1cbc7758c",
        "colab": {
          "base_uri": "https://localhost:8080/",
          "height": 34
        }
      },
      "source": [
        "min(result_gloves1)"
      ],
      "execution_count": 0,
      "outputs": [
        {
          "output_type": "execute_result",
          "data": {
            "text/plain": [
              "51"
            ]
          },
          "metadata": {
            "tags": []
          },
          "execution_count": 53
        }
      ]
    },
    {
      "cell_type": "code",
      "metadata": {
        "id": "BGflS3B_jzJg",
        "colab_type": "code",
        "outputId": "0907d9b9-5143-41ab-f9e9-5edf5abb28d5",
        "colab": {
          "base_uri": "https://localhost:8080/",
          "height": 34
        }
      },
      "source": [
        "max(result_gloves1)"
      ],
      "execution_count": 0,
      "outputs": [
        {
          "output_type": "execute_result",
          "data": {
            "text/plain": [
              "2210"
            ]
          },
          "metadata": {
            "tags": []
          },
          "execution_count": 54
        }
      ]
    },
    {
      "cell_type": "markdown",
      "metadata": {
        "id": "P2MTRLp4g0Xg",
        "colab_type": "text"
      },
      "source": [
        "**[pack,set,Pack] ranges from [51,2210]**"
      ]
    },
    {
      "cell_type": "code",
      "metadata": {
        "id": "CBBoDiihfTr9",
        "colab_type": "code",
        "outputId": "f5f41b36-eebc-4eae-d29a-dff674350129",
        "colab": {
          "base_uri": "https://localhost:8080/",
          "height": 34
        }
      },
      "source": [
        "min(result_drill1)"
      ],
      "execution_count": 0,
      "outputs": [
        {
          "output_type": "execute_result",
          "data": {
            "text/plain": [
              "1069"
            ]
          },
          "metadata": {
            "tags": []
          },
          "execution_count": 26
        }
      ]
    },
    {
      "cell_type": "code",
      "metadata": {
        "id": "zvlGZW1dfYqy",
        "colab_type": "code",
        "outputId": "dc90d894-1545-4d5f-9445-91c82d0a1a8a",
        "colab": {
          "base_uri": "https://localhost:8080/",
          "height": 34
        }
      },
      "source": [
        "max(result_drill1)"
      ],
      "execution_count": 0,
      "outputs": [
        {
          "output_type": "execute_result",
          "data": {
            "text/plain": [
              "24400"
            ]
          },
          "metadata": {
            "tags": []
          },
          "execution_count": 27
        }
      ]
    },
    {
      "cell_type": "markdown",
      "metadata": {
        "id": "CG503h8xgQY2",
        "colab_type": "text"
      },
      "source": [
        "**['Pack','pack','Set','Kit','kit'] ranges from [1069,24400]**"
      ]
    },
    {
      "cell_type": "code",
      "metadata": {
        "id": "M9x3pANleBHd",
        "colab_type": "code",
        "outputId": "1219d4f9-cd26-4b96-fbed-0e38b54ab128",
        "colab": {
          "base_uri": "https://localhost:8080/",
          "height": 34
        }
      },
      "source": [
        "min(result_drill2)"
      ],
      "execution_count": 0,
      "outputs": [
        {
          "output_type": "execute_result",
          "data": {
            "text/plain": [
              "675"
            ]
          },
          "metadata": {
            "tags": []
          },
          "execution_count": 28
        }
      ]
    },
    {
      "cell_type": "code",
      "metadata": {
        "id": "mJapyL4Sfg44",
        "colab_type": "code",
        "outputId": "08a4ef37-28ee-4337-cf09-45d16e353f6f",
        "colab": {
          "base_uri": "https://localhost:8080/",
          "height": 34
        }
      },
      "source": [
        "max(result_drill2)"
      ],
      "execution_count": 0,
      "outputs": [
        {
          "output_type": "execute_result",
          "data": {
            "text/plain": [
              "12360"
            ]
          },
          "metadata": {
            "tags": []
          },
          "execution_count": 29
        }
      ]
    },
    {
      "cell_type": "markdown",
      "metadata": {
        "id": "zlh4FujngfWj",
        "colab_type": "text"
      },
      "source": [
        "**['1nos','Number','ONWARDS','Pc_Onwards','Piece','Piece(s)','Unit','Unit(s)','unit'] ranges from [675,12360]**"
      ]
    },
    {
      "cell_type": "code",
      "metadata": {
        "id": "qcnAbeZ-gNVz",
        "colab_type": "code",
        "colab": {}
      },
      "source": [
        ""
      ],
      "execution_count": 0,
      "outputs": []
    }
  ]
}